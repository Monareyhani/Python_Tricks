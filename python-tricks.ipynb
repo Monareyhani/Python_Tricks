{
 "cells": [
  {
   "cell_type": "markdown",
   "id": "8cc38a01",
   "metadata": {
    "id": "ioyuNo2owjDw",
    "papermill": {
     "duration": 0.033124,
     "end_time": "2023-08-19T13:14:52.434659",
     "exception": false,
     "start_time": "2023-08-19T13:14:52.401535",
     "status": "completed"
    },
    "tags": []
   },
   "source": [
    "# 🟣🟡 Python Tricks"
   ]
  },
  {
   "cell_type": "markdown",
   "id": "2407a8a8",
   "metadata": {
    "papermill": {
     "duration": 0.032795,
     "end_time": "2023-08-19T13:14:52.501356",
     "exception": false,
     "start_time": "2023-08-19T13:14:52.468561",
     "status": "completed"
    },
    "tags": []
   },
   "source": [
    "Python is a powerful and versatile programming language that has many features and tricks that can make your code more efficient, elegant, and readable. Some of the Python tricks you might want to learn are :"
   ]
  },
  {
   "cell_type": "markdown",
   "id": "1c0d7d15",
   "metadata": {
    "id": "RipFJ3FOUJAS",
    "papermill": {
     "duration": 0.031959,
     "end_time": "2023-08-19T13:14:52.565951",
     "exception": false,
     "start_time": "2023-08-19T13:14:52.533992",
     "status": "completed"
    },
    "tags": []
   },
   "source": [
    "\n",
    "\n",
    "---\n",
    "\n"
   ]
  },
  {
   "cell_type": "markdown",
   "id": "ef8085e6",
   "metadata": {
    "id": "Xil2rUUgvoNn",
    "papermill": {
     "duration": 0.031847,
     "end_time": "2023-08-19T13:14:52.630045",
     "exception": false,
     "start_time": "2023-08-19T13:14:52.598198",
     "status": "completed"
    },
    "tags": []
   },
   "source": [
    "# **OPERATORS**"
   ]
  },
  {
   "cell_type": "markdown",
   "id": "ca304d0f",
   "metadata": {
    "id": "XP7cnWDIwwyh",
    "papermill": {
     "duration": 0.032384,
     "end_time": "2023-08-19T13:14:52.694813",
     "exception": false,
     "start_time": "2023-08-19T13:14:52.662429",
     "status": "completed"
    },
    "tags": []
   },
   "source": [
    "**1. Arithmetic Operators:**\n",
    "\n"
   ]
  },
  {
   "cell_type": "code",
   "execution_count": 1,
   "id": "b06e231d",
   "metadata": {
    "execution": {
     "iopub.execute_input": "2023-08-19T13:14:52.762032Z",
     "iopub.status.busy": "2023-08-19T13:14:52.761653Z",
     "iopub.status.idle": "2023-08-19T13:14:53.377649Z",
     "shell.execute_reply": "2023-08-19T13:14:53.376177Z"
    },
    "id": "uosGMJqAxTtO",
    "papermill": {
     "duration": 0.652684,
     "end_time": "2023-08-19T13:14:53.380038",
     "exception": true,
     "start_time": "2023-08-19T13:14:52.727354",
     "status": "failed"
    },
    "tags": []
   },
   "outputs": [
    {
     "ename": "StdinNotImplementedError",
     "evalue": "raw_input was called, but this frontend does not support input requests.",
     "output_type": "error",
     "traceback": [
      "\u001b[0;31m---------------------------------------------------------------------------\u001b[0m",
      "\u001b[0;31mStdinNotImplementedError\u001b[0m                  Traceback (most recent call last)",
      "Cell \u001b[0;32mIn[1], line 2\u001b[0m\n\u001b[1;32m      1\u001b[0m \u001b[38;5;66;03m# Get inputs\u001b[39;00m\n\u001b[0;32m----> 2\u001b[0m num1 \u001b[38;5;241m=\u001b[39m \u001b[38;5;28mfloat\u001b[39m(\u001b[38;5;28;43minput\u001b[39;49m\u001b[43m(\u001b[49m\u001b[38;5;124;43m\"\u001b[39;49m\u001b[38;5;124;43mEnter the first number: \u001b[39;49m\u001b[38;5;124;43m\"\u001b[39;49m\u001b[43m)\u001b[49m)\n\u001b[1;32m      3\u001b[0m num2 \u001b[38;5;241m=\u001b[39m \u001b[38;5;28mfloat\u001b[39m(\u001b[38;5;28minput\u001b[39m(\u001b[38;5;124m\"\u001b[39m\u001b[38;5;124mEnter the second number: \u001b[39m\u001b[38;5;124m\"\u001b[39m))\n\u001b[1;32m      5\u001b[0m \u001b[38;5;66;03m# Calculate the sum, difference, product, and quotient\u001b[39;00m\n",
      "File \u001b[0;32m/opt/conda/lib/python3.10/site-packages/ipykernel/kernelbase.py:1190\u001b[0m, in \u001b[0;36mKernel.raw_input\u001b[0;34m(self, prompt)\u001b[0m\n\u001b[1;32m   1188\u001b[0m \u001b[38;5;28;01mif\u001b[39;00m \u001b[38;5;129;01mnot\u001b[39;00m \u001b[38;5;28mself\u001b[39m\u001b[38;5;241m.\u001b[39m_allow_stdin:\n\u001b[1;32m   1189\u001b[0m     msg \u001b[38;5;241m=\u001b[39m \u001b[38;5;124m\"\u001b[39m\u001b[38;5;124mraw_input was called, but this frontend does not support input requests.\u001b[39m\u001b[38;5;124m\"\u001b[39m\n\u001b[0;32m-> 1190\u001b[0m     \u001b[38;5;28;01mraise\u001b[39;00m StdinNotImplementedError(msg)\n\u001b[1;32m   1191\u001b[0m \u001b[38;5;28;01mreturn\u001b[39;00m \u001b[38;5;28mself\u001b[39m\u001b[38;5;241m.\u001b[39m_input_request(\n\u001b[1;32m   1192\u001b[0m     \u001b[38;5;28mstr\u001b[39m(prompt),\n\u001b[1;32m   1193\u001b[0m     \u001b[38;5;28mself\u001b[39m\u001b[38;5;241m.\u001b[39m_parent_ident[\u001b[38;5;124m\"\u001b[39m\u001b[38;5;124mshell\u001b[39m\u001b[38;5;124m\"\u001b[39m],\n\u001b[1;32m   1194\u001b[0m     \u001b[38;5;28mself\u001b[39m\u001b[38;5;241m.\u001b[39mget_parent(\u001b[38;5;124m\"\u001b[39m\u001b[38;5;124mshell\u001b[39m\u001b[38;5;124m\"\u001b[39m),\n\u001b[1;32m   1195\u001b[0m     password\u001b[38;5;241m=\u001b[39m\u001b[38;5;28;01mFalse\u001b[39;00m,\n\u001b[1;32m   1196\u001b[0m )\n",
      "\u001b[0;31mStdinNotImplementedError\u001b[0m: raw_input was called, but this frontend does not support input requests."
     ]
    }
   ],
   "source": [
    "# Get inputs\n",
    "num1 = float(input(\"Enter the first number: \"))\n",
    "num2 = float(input(\"Enter the second number: \"))\n",
    "\n",
    "# Calculate the sum, difference, product, and quotient\n",
    "summ = num1 + num2\n",
    "diff = num1 - num2\n",
    "prod = num1 * num2\n",
    "quot = num1 / num2\n",
    "\n",
    "# Print the results\n",
    "print(f\"The sum of {num1} and {num2} is {summ}\")\n",
    "print(f\"The difference of {num1} and {num2} is {diff}\")\n",
    "print(f\"The product of {num1} and {num2} is {prod}\")\n",
    "print(f\"The quotient of {num1} and {num2} is {quot}\")"
   ]
  },
  {
   "cell_type": "markdown",
   "id": "f4765fc2",
   "metadata": {
    "id": "dsOqY-RFxUaW",
    "papermill": {
     "duration": null,
     "end_time": null,
     "exception": null,
     "start_time": null,
     "status": "pending"
    },
    "tags": []
   },
   "source": [
    "**2. Comparison Operators:**\n",
    "\n"
   ]
  },
  {
   "cell_type": "code",
   "execution_count": null,
   "id": "5933e030",
   "metadata": {
    "execution": {
     "iopub.execute_input": "2023-08-19T13:14:08.796066Z",
     "iopub.status.busy": "2023-08-19T13:14:08.795649Z",
     "iopub.status.idle": "2023-08-19T13:14:16.154296Z",
     "shell.execute_reply": "2023-08-19T13:14:16.153034Z",
     "shell.execute_reply.started": "2023-08-19T13:14:08.796035Z"
    },
    "id": "Snwu0UDBx1oW",
    "papermill": {
     "duration": null,
     "end_time": null,
     "exception": null,
     "start_time": null,
     "status": "pending"
    },
    "tags": []
   },
   "outputs": [],
   "source": [
    "# Get inputs\n",
    "num1 = float(input(\"Enter the first number: \"))\n",
    "num2 = float(input(\"Enter the second number: \"))\n",
    "\n",
    "# Compare the numbers and print the result\n",
    "if num1 > num2:\n",
    "    print(f\"{num1} is greater than {num2}\")\n",
    "elif num1 < num2:\n",
    "    print(f\"{num1} is less than {num2}\")\n",
    "else:\n",
    "    print(f\"{num1} is equal to {num2}\")"
   ]
  },
  {
   "cell_type": "markdown",
   "id": "5aa905e1",
   "metadata": {
    "id": "bmXtVwebx2cq",
    "papermill": {
     "duration": null,
     "end_time": null,
     "exception": null,
     "start_time": null,
     "status": "pending"
    },
    "tags": []
   },
   "source": [
    "**3. Assignment Operators:**\n"
   ]
  },
  {
   "cell_type": "code",
   "execution_count": null,
   "id": "cb26a553",
   "metadata": {
    "execution": {
     "iopub.execute_input": "2023-08-19T13:11:18.564406Z",
     "iopub.status.busy": "2023-08-19T13:11:18.563578Z",
     "iopub.status.idle": "2023-08-19T13:11:22.470066Z",
     "shell.execute_reply": "2023-08-19T13:11:22.468636Z",
     "shell.execute_reply.started": "2023-08-19T13:11:18.564358Z"
    },
    "id": "IOOlNP7Rx_gY",
    "papermill": {
     "duration": null,
     "end_time": null,
     "exception": null,
     "start_time": null,
     "status": "pending"
    },
    "tags": []
   },
   "outputs": [],
   "source": [
    "# Get an initial value from the user\n",
    "value = float(input(\"Enter an initial value: \"))\n",
    "\n",
    "# Apply different assignment operators and print the result\n",
    "value += 5 # Add 5 to the value\n",
    "print(f\"After adding 5, the value is {value}\")\n",
    "\n",
    "value -= 3 # Subtract 3 from the value\n",
    "print(f\"After subtracting 3, the value is {value}\")\n",
    "\n",
    "value *= 2 # Multiply the value by 2\n",
    "print(f\"After multiplying by 2, the value is {value}\")\n",
    "\n",
    "value /= 4 # Divide the value by 4\n",
    "print(f\"After dividing by 4, the value is {value}\")"
   ]
  },
  {
   "cell_type": "markdown",
   "id": "67e6b7aa",
   "metadata": {
    "id": "NBFHuVR3yAKH",
    "papermill": {
     "duration": null,
     "end_time": null,
     "exception": null,
     "start_time": null,
     "status": "pending"
    },
    "tags": []
   },
   "source": [
    "**4. Comparison Operators:**\n"
   ]
  },
  {
   "cell_type": "code",
   "execution_count": null,
   "id": "756391b7",
   "metadata": {
    "execution": {
     "iopub.execute_input": "2023-08-19T13:11:22.473420Z",
     "iopub.status.busy": "2023-08-19T13:11:22.473075Z",
     "iopub.status.idle": "2023-08-19T13:11:29.032117Z",
     "shell.execute_reply": "2023-08-19T13:11:29.030807Z",
     "shell.execute_reply.started": "2023-08-19T13:11:22.473391Z"
    },
    "id": "ehjXDWKV0Mq7",
    "papermill": {
     "duration": null,
     "end_time": null,
     "exception": null,
     "start_time": null,
     "status": "pending"
    },
    "tags": []
   },
   "outputs": [],
   "source": [
    "# Get the person's age from the user\n",
    "age = int(input(\"Enter your age: \"))\n",
    "\n",
    "# Check if the age is at least 18 and print the result\n",
    "if age >= 18:\n",
    "    print(\"You are eligible to vote.\")\n",
    "else:\n",
    "    print(\"You are not eligible to vote.\")"
   ]
  },
  {
   "cell_type": "markdown",
   "id": "7b2d93c7",
   "metadata": {
    "id": "z2f192F_yN-5",
    "papermill": {
     "duration": null,
     "end_time": null,
     "exception": null,
     "start_time": null,
     "status": "pending"
    },
    "tags": []
   },
   "source": [
    "# **CONTROL FLOW AND ITERATION**"
   ]
  },
  {
   "cell_type": "markdown",
   "id": "288d6811",
   "metadata": {
    "id": "2n4Y_RLXybQs",
    "papermill": {
     "duration": null,
     "end_time": null,
     "exception": null,
     "start_time": null,
     "status": "pending"
    },
    "tags": []
   },
   "source": [
    "**5. If-else Statements:**\n",
    "\n"
   ]
  },
  {
   "cell_type": "code",
   "execution_count": null,
   "id": "2357c81e",
   "metadata": {
    "execution": {
     "iopub.execute_input": "2023-08-19T13:11:29.034891Z",
     "iopub.status.busy": "2023-08-19T13:11:29.034484Z",
     "iopub.status.idle": "2023-08-19T13:11:32.015159Z",
     "shell.execute_reply": "2023-08-19T13:11:32.013728Z",
     "shell.execute_reply.started": "2023-08-19T13:11:29.034859Z"
    },
    "id": "ptdMIdn5yn0Z",
    "papermill": {
     "duration": null,
     "end_time": null,
     "exception": null,
     "start_time": null,
     "status": "pending"
    },
    "tags": []
   },
   "outputs": [],
   "source": [
    "# Get a number from the user\n",
    "num = float(input(\"Enter a number: \"))\n",
    "\n",
    "# Check if the number is positive, negative, or zero and print the result\n",
    "if num > 0:\n",
    "    print(f\"{num} is positive.\")\n",
    "elif num < 0:\n",
    "        print(f\"{num} is negative.\")\n",
    "else:\n",
    "    print(f\"{num} is zero.\")"
   ]
  },
  {
   "cell_type": "markdown",
   "id": "b36e3bc7",
   "metadata": {
    "id": "cV4PhAflynNt",
    "papermill": {
     "duration": null,
     "end_time": null,
     "exception": null,
     "start_time": null,
     "status": "pending"
    },
    "tags": []
   },
   "source": [
    "**6. For Loops:**\n",
    "\n",
    "\n"
   ]
  },
  {
   "cell_type": "code",
   "execution_count": null,
   "id": "b085d098",
   "metadata": {
    "execution": {
     "iopub.execute_input": "2023-08-19T13:11:32.019291Z",
     "iopub.status.busy": "2023-08-19T13:11:32.018516Z",
     "iopub.status.idle": "2023-08-19T13:11:36.821515Z",
     "shell.execute_reply": "2023-08-19T13:11:36.820402Z",
     "shell.execute_reply.started": "2023-08-19T13:11:32.019251Z"
    },
    "id": "O08FuEiEyhdL",
    "papermill": {
     "duration": null,
     "end_time": null,
     "exception": null,
     "start_time": null,
     "status": "pending"
    },
    "tags": []
   },
   "outputs": [],
   "source": [
    "# Get a string from the user\n",
    "string = input(\"Enter a string: \")\n",
    "\n",
    "# Loop through each character in the string and print it on a separate line\n",
    "for char in string:\n",
    "    print(char)"
   ]
  },
  {
   "cell_type": "markdown",
   "id": "929f36bb",
   "metadata": {
    "id": "fpqY21thygup",
    "papermill": {
     "duration": null,
     "end_time": null,
     "exception": null,
     "start_time": null,
     "status": "pending"
    },
    "tags": []
   },
   "source": [
    "**7. While Loops:**"
   ]
  },
  {
   "cell_type": "code",
   "execution_count": null,
   "id": "a2c29ad4",
   "metadata": {
    "execution": {
     "iopub.execute_input": "2023-08-19T13:11:36.823098Z",
     "iopub.status.busy": "2023-08-19T13:11:36.822782Z",
     "iopub.status.idle": "2023-08-19T13:11:42.442577Z",
     "shell.execute_reply": "2023-08-19T13:11:42.441648Z",
     "shell.execute_reply.started": "2023-08-19T13:11:36.823071Z"
    },
    "papermill": {
     "duration": null,
     "end_time": null,
     "exception": null,
     "start_time": null,
     "status": "pending"
    },
    "tags": []
   },
   "outputs": [],
   "source": [
    "# Loop while the counter is less than or equal to the number\n",
    "# Check if the counter is even and print it\n",
    "# Increment the counter by 1\n",
    "\n",
    "# Ask the user to enter a number\n",
    "num = int(input(\"Enter a number: \"))\n",
    "i = 0\n",
    "\n",
    "while i <= num:\n",
    "    if i % 2 == 0:\n",
    "        print(i)\n",
    "    i += 1"
   ]
  },
  {
   "cell_type": "markdown",
   "id": "b1626645",
   "metadata": {
    "id": "69UOQNOlyv-o",
    "papermill": {
     "duration": null,
     "end_time": null,
     "exception": null,
     "start_time": null,
     "status": "pending"
    },
    "tags": []
   },
   "source": [
    "**8. Control Flow with Lists and Conditions:**\n",
    "\n"
   ]
  },
  {
   "cell_type": "code",
   "execution_count": null,
   "id": "ef587123",
   "metadata": {
    "execution": {
     "iopub.execute_input": "2023-08-19T13:11:42.445097Z",
     "iopub.status.busy": "2023-08-19T13:11:42.443918Z",
     "iopub.status.idle": "2023-08-19T13:11:42.451682Z",
     "shell.execute_reply": "2023-08-19T13:11:42.450680Z",
     "shell.execute_reply.started": "2023-08-19T13:11:42.445059Z"
    },
    "id": "fwhWRghEzBLe",
    "papermill": {
     "duration": null,
     "end_time": null,
     "exception": null,
     "start_time": null,
     "status": "pending"
    },
    "tags": []
   },
   "outputs": [],
   "source": [
    "# Define a list of words\n",
    "words = [\"apple\", \"banana\", \"cat\", \"dog\", \"ant\", \"elephant\"]\n",
    "\n",
    "# Loop through each word in the list\n",
    "# Check if the word starts with 'a' and print its length\n",
    "for word in words:\n",
    "    if word.startswith(\"a\"):\n",
    "        print(f\"The length of {word} is {len(word)}\")"
   ]
  },
  {
   "cell_type": "markdown",
   "id": "d039daa8",
   "metadata": {
    "id": "al7Tu9eBy4jJ",
    "papermill": {
     "duration": null,
     "end_time": null,
     "exception": null,
     "start_time": null,
     "status": "pending"
    },
    "tags": []
   },
   "source": [
    "# **LIST**"
   ]
  },
  {
   "cell_type": "markdown",
   "id": "65e731f5",
   "metadata": {
    "id": "HRC1nxlrzJcK",
    "papermill": {
     "duration": null,
     "end_time": null,
     "exception": null,
     "start_time": null,
     "status": "pending"
    },
    "tags": []
   },
   "source": [
    "**9. Basic List Operations:**\n",
    "\n"
   ]
  },
  {
   "cell_type": "code",
   "execution_count": null,
   "id": "390bbac2",
   "metadata": {
    "execution": {
     "iopub.execute_input": "2023-08-19T13:11:42.454031Z",
     "iopub.status.busy": "2023-08-19T13:11:42.453194Z",
     "iopub.status.idle": "2023-08-19T13:11:42.465910Z",
     "shell.execute_reply": "2023-08-19T13:11:42.464399Z",
     "shell.execute_reply.started": "2023-08-19T13:11:42.453990Z"
    },
    "id": "Xn4G5XpYzW2Q",
    "papermill": {
     "duration": null,
     "end_time": null,
     "exception": null,
     "start_time": null,
     "status": "pending"
    },
    "tags": []
   },
   "outputs": [],
   "source": [
    "# Define two lists of numbers\n",
    "list1 = [1, 2, 3, 4, 5]\n",
    "list2 = [6, 7, 8, 9, 10]\n",
    "\n",
    "# Concatenate the two lists using the + operator\n",
    "list3 = list1 + list2\n",
    "\n",
    "# Print the concatenated list\n",
    "print(list3)"
   ]
  },
  {
   "cell_type": "markdown",
   "id": "53a34185",
   "metadata": {
    "id": "vjoOffD9zXM2",
    "papermill": {
     "duration": null,
     "end_time": null,
     "exception": null,
     "start_time": null,
     "status": "pending"
    },
    "tags": []
   },
   "source": [
    "**10. Accessing List Elements:**\n",
    "\n"
   ]
  },
  {
   "cell_type": "code",
   "execution_count": null,
   "id": "0f39e04d",
   "metadata": {
    "execution": {
     "iopub.execute_input": "2023-08-19T13:11:42.472046Z",
     "iopub.status.busy": "2023-08-19T13:11:42.471589Z",
     "iopub.status.idle": "2023-08-19T13:11:42.481769Z",
     "shell.execute_reply": "2023-08-19T13:11:42.480224Z",
     "shell.execute_reply.started": "2023-08-19T13:11:42.472011Z"
    },
    "id": "86ltQ-N3zqBF",
    "papermill": {
     "duration": null,
     "end_time": null,
     "exception": null,
     "start_time": null,
     "status": "pending"
    },
    "tags": []
   },
   "outputs": [],
   "source": [
    "# Define a list of numbers\n",
    "numbers = [10, 20, 30, 40, 50]\n",
    "\n",
    "# Get the first and last elements using indexing\n",
    "first = numbers[0]\n",
    "last = numbers[-1]\n",
    "\n",
    "# Calculate the sum of the first and last elements\n",
    "sum = first + last\n",
    "\n",
    "# Print the sum\n",
    "print(sum)"
   ]
  },
  {
   "cell_type": "markdown",
   "id": "15f1ab43",
   "metadata": {
    "id": "MgPVIP_FzqRO",
    "papermill": {
     "duration": null,
     "end_time": null,
     "exception": null,
     "start_time": null,
     "status": "pending"
    },
    "tags": []
   },
   "source": [
    "**11. Modifying Lists:**\n",
    "\n"
   ]
  },
  {
   "cell_type": "code",
   "execution_count": null,
   "id": "482dfb90",
   "metadata": {
    "execution": {
     "iopub.execute_input": "2023-08-19T13:11:42.483887Z",
     "iopub.status.busy": "2023-08-19T13:11:42.483486Z",
     "iopub.status.idle": "2023-08-19T13:11:42.494083Z",
     "shell.execute_reply": "2023-08-19T13:11:42.493065Z",
     "shell.execute_reply.started": "2023-08-19T13:11:42.483854Z"
    },
    "id": "B8GlrjhTz2os",
    "papermill": {
     "duration": null,
     "end_time": null,
     "exception": null,
     "start_time": null,
     "status": "pending"
    },
    "tags": []
   },
   "outputs": [],
   "source": [
    "# Define a list of numbers\n",
    "numbers = [10, 20, 30, 40, 50]\n",
    "\n",
    "# Print the original list\n",
    "print(f\"The original list is {numbers}\")\n",
    "\n",
    "# Change the value of the third element using indexing and assignment\n",
    "numbers[2] = 100\n",
    "\n",
    "# Print the modified list\n",
    "print(f\"The modified list is {numbers}\")"
   ]
  },
  {
   "cell_type": "markdown",
   "id": "5f901146",
   "metadata": {
    "id": "_e428giUz1sM",
    "papermill": {
     "duration": null,
     "end_time": null,
     "exception": null,
     "start_time": null,
     "status": "pending"
    },
    "tags": []
   },
   "source": [
    "**12. Slicing and Sublists:**\n",
    "\n"
   ]
  },
  {
   "cell_type": "code",
   "execution_count": null,
   "id": "9e6f1ad8",
   "metadata": {
    "execution": {
     "iopub.execute_input": "2023-08-19T13:11:42.495742Z",
     "iopub.status.busy": "2023-08-19T13:11:42.495378Z",
     "iopub.status.idle": "2023-08-19T13:11:42.508766Z",
     "shell.execute_reply": "2023-08-19T13:11:42.507365Z",
     "shell.execute_reply.started": "2023-08-19T13:11:42.495714Z"
    },
    "id": "aDK4pvSSz8xH",
    "papermill": {
     "duration": null,
     "end_time": null,
     "exception": null,
     "start_time": null,
     "status": "pending"
    },
    "tags": []
   },
   "outputs": [],
   "source": [
    "# Define a list of strings\n",
    "strings = [\"hello\", \"filoger\", \"python\", \"is\", \"fun\"]\n",
    "\n",
    "# Print the original list\n",
    "print(f\"The original list is {strings}\")\n",
    "\n",
    "# Get a sublist containing the last two elements using slicing\n",
    "sublist = strings[-2:]\n",
    "\n",
    "# Print the sublist\n",
    "print(f\"The sublist is {sublist}\")"
   ]
  },
  {
   "cell_type": "markdown",
   "id": "311aeea8",
   "metadata": {
    "id": "r5mBdFTo1HoN",
    "papermill": {
     "duration": null,
     "end_time": null,
     "exception": null,
     "start_time": null,
     "status": "pending"
    },
    "tags": []
   },
   "source": [
    "# **TUPLE**\n"
   ]
  },
  {
   "cell_type": "markdown",
   "id": "94393519",
   "metadata": {
    "id": "KO5Xsphp1KQM",
    "papermill": {
     "duration": null,
     "end_time": null,
     "exception": null,
     "start_time": null,
     "status": "pending"
    },
    "tags": []
   },
   "source": [
    "**13. Basic Tuple Operations:**"
   ]
  },
  {
   "cell_type": "code",
   "execution_count": null,
   "id": "c6aa93f3",
   "metadata": {
    "execution": {
     "iopub.execute_input": "2023-08-19T13:11:42.512595Z",
     "iopub.status.busy": "2023-08-19T13:11:42.511845Z",
     "iopub.status.idle": "2023-08-19T13:11:42.527943Z",
     "shell.execute_reply": "2023-08-19T13:11:42.526626Z",
     "shell.execute_reply.started": "2023-08-19T13:11:42.512502Z"
    },
    "id": "D1PdakBy1NBd",
    "papermill": {
     "duration": null,
     "end_time": null,
     "exception": null,
     "start_time": null,
     "status": "pending"
    },
    "tags": []
   },
   "outputs": [],
   "source": [
    "# Define a tuple of strings\n",
    "strings = (\"hello\", \"filoger\", \"python\", \"is\", \"fun\")\n",
    "\n",
    "# Print the original tuple\n",
    "print(f\"The original tuple is {strings}\")\n",
    "\n",
    "# Reverse the tuple using slicing with negative step\n",
    "reversed_tuple = strings[::-1]\n",
    "\n",
    "# Print the reversed tuple\n",
    "print(f\"The reversed tuple is {reversed_tuple}\")"
   ]
  },
  {
   "cell_type": "markdown",
   "id": "bbb65c61",
   "metadata": {
    "id": "5DvbQ4sz1O6y",
    "papermill": {
     "duration": null,
     "end_time": null,
     "exception": null,
     "start_time": null,
     "status": "pending"
    },
    "tags": []
   },
   "source": [
    "**14. Accessing Tuple Elements:**"
   ]
  },
  {
   "cell_type": "code",
   "execution_count": null,
   "id": "89f33c3a",
   "metadata": {
    "execution": {
     "iopub.execute_input": "2023-08-19T13:11:42.529924Z",
     "iopub.status.busy": "2023-08-19T13:11:42.529515Z",
     "iopub.status.idle": "2023-08-19T13:11:42.539321Z",
     "shell.execute_reply": "2023-08-19T13:11:42.538273Z",
     "shell.execute_reply.started": "2023-08-19T13:11:42.529894Z"
    },
    "id": "Tx7s3Xxy1SWj",
    "papermill": {
     "duration": null,
     "end_time": null,
     "exception": null,
     "start_time": null,
     "status": "pending"
    },
    "tags": []
   },
   "outputs": [],
   "source": [
    "# Define a tuple of numbers\n",
    "numbers = (10, 20, 30, 40, 50)\n",
    "\n",
    "# Get the first and last elements using indexing\n",
    "first = numbers[0]\n",
    "last = numbers[-1]\n",
    "\n",
    "# Calculate the sum of the first and last elements\n",
    "sum = first + last\n",
    "\n",
    "# Print the sum\n",
    "print(sum)"
   ]
  },
  {
   "cell_type": "markdown",
   "id": "7cc96c6d",
   "metadata": {
    "id": "fFoJ1qR-1Sme",
    "papermill": {
     "duration": null,
     "end_time": null,
     "exception": null,
     "start_time": null,
     "status": "pending"
    },
    "tags": []
   },
   "source": [
    "**15. Modifying Tuples:**"
   ]
  },
  {
   "cell_type": "code",
   "execution_count": null,
   "id": "ae1f58e6",
   "metadata": {
    "execution": {
     "iopub.execute_input": "2023-08-19T13:11:42.541185Z",
     "iopub.status.busy": "2023-08-19T13:11:42.540859Z",
     "iopub.status.idle": "2023-08-19T13:11:42.553813Z",
     "shell.execute_reply": "2023-08-19T13:11:42.552845Z",
     "shell.execute_reply.started": "2023-08-19T13:11:42.541158Z"
    },
    "id": "H04aCbTO3O6T",
    "papermill": {
     "duration": null,
     "end_time": null,
     "exception": null,
     "start_time": null,
     "status": "pending"
    },
    "tags": []
   },
   "outputs": [],
   "source": [
    "# Convert the tuple to a list\n",
    "numbers_list = list(numbers)\n",
    "\n",
    "# Change the value of the third element using indexing and assignment\n",
    "numbers_list[2] = 100\n",
    "\n",
    "# Convert the list back to a tuple\n",
    "numbers_tuple = tuple(numbers_list)\n",
    "\n",
    "# Print the modified tuple\n",
    "print(f\"The modified tuple is {numbers_tuple}\")"
   ]
  },
  {
   "cell_type": "markdown",
   "id": "be3599fe",
   "metadata": {
    "id": "yHtwijY81Wd6",
    "papermill": {
     "duration": null,
     "end_time": null,
     "exception": null,
     "start_time": null,
     "status": "pending"
    },
    "tags": []
   },
   "source": [
    "**16. Slicing and Subtuples:**"
   ]
  },
  {
   "cell_type": "code",
   "execution_count": null,
   "id": "bf97a1fa",
   "metadata": {
    "execution": {
     "iopub.execute_input": "2023-08-19T13:11:42.555222Z",
     "iopub.status.busy": "2023-08-19T13:11:42.554853Z",
     "iopub.status.idle": "2023-08-19T13:11:42.568718Z",
     "shell.execute_reply": "2023-08-19T13:11:42.567941Z",
     "shell.execute_reply.started": "2023-08-19T13:11:42.555195Z"
    },
    "id": "9vyojjhY3T_E",
    "papermill": {
     "duration": null,
     "end_time": null,
     "exception": null,
     "start_time": null,
     "status": "pending"
    },
    "tags": []
   },
   "outputs": [],
   "source": [
    "# Define a tuple of strings\n",
    "strings = (\"hello\", \"filoger\", \"python\", \"is\", \"fun\")\n",
    "\n",
    "# Print the original tuple\n",
    "print(f\"The original tuple is {strings}\")\n",
    "\n",
    "# Get a subtuple containing the last two elements using slicing\n",
    "subtuple = strings[-2:]\n",
    "\n",
    "# Print the subtuple\n",
    "print(f\"The subtuple is {subtuple}\")"
   ]
  },
  {
   "cell_type": "markdown",
   "id": "059dc5cc",
   "metadata": {
    "id": "0XueXaeb3UTD",
    "papermill": {
     "duration": null,
     "end_time": null,
     "exception": null,
     "start_time": null,
     "status": "pending"
    },
    "tags": []
   },
   "source": [
    "# **DICTIONAY**"
   ]
  },
  {
   "cell_type": "markdown",
   "id": "2192ae51",
   "metadata": {
    "id": "_oeoZ9wk3Y89",
    "papermill": {
     "duration": null,
     "end_time": null,
     "exception": null,
     "start_time": null,
     "status": "pending"
    },
    "tags": []
   },
   "source": [
    "**17. Basic Dictionary Operations:**\n"
   ]
  },
  {
   "cell_type": "code",
   "execution_count": null,
   "id": "d65168a2",
   "metadata": {
    "execution": {
     "iopub.execute_input": "2023-08-19T13:11:42.570125Z",
     "iopub.status.busy": "2023-08-19T13:11:42.569767Z",
     "iopub.status.idle": "2023-08-19T13:11:42.583326Z",
     "shell.execute_reply": "2023-08-19T13:11:42.582082Z",
     "shell.execute_reply.started": "2023-08-19T13:11:42.570094Z"
    },
    "id": "v9Zj3pvb3eJa",
    "papermill": {
     "duration": null,
     "end_time": null,
     "exception": null,
     "start_time": null,
     "status": "pending"
    },
    "tags": []
   },
   "outputs": [],
   "source": [
    "# Define a dictionary representing a product\n",
    "product = {\n",
    "\"name\": \"Laptop\",\n",
    "\"price\": 999.99,\n",
    "\"quantity\": 5\n",
    "}\n",
    "\n",
    "# Print the dictionary\n",
    "print(product)"
   ]
  },
  {
   "cell_type": "markdown",
   "id": "d4dd9d5f",
   "metadata": {
    "id": "SS312CAs3eZc",
    "papermill": {
     "duration": null,
     "end_time": null,
     "exception": null,
     "start_time": null,
     "status": "pending"
    },
    "tags": []
   },
   "source": [
    "**18. Accessing Dictionary Elements:**"
   ]
  },
  {
   "cell_type": "code",
   "execution_count": null,
   "id": "ddd96de2",
   "metadata": {
    "execution": {
     "iopub.execute_input": "2023-08-19T13:11:42.585588Z",
     "iopub.status.busy": "2023-08-19T13:11:42.585257Z",
     "iopub.status.idle": "2023-08-19T13:11:42.595877Z",
     "shell.execute_reply": "2023-08-19T13:11:42.594841Z",
     "shell.execute_reply.started": "2023-08-19T13:11:42.585561Z"
    },
    "id": "01eF8GZu3iSc",
    "papermill": {
     "duration": null,
     "end_time": null,
     "exception": null,
     "start_time": null,
     "status": "pending"
    },
    "tags": []
   },
   "outputs": [],
   "source": [
    "# Define a dictionary representing a person\n",
    "person = {\n",
    "\"name\": \"Honye\",\n",
    "\"age\": 25,\n",
    "\"occupation\": \"Software Engineer\"\n",
    "}\n",
    "\n",
    "# Print the value associated with the \"name\" key using indexing\n",
    "print(person[\"name\"])"
   ]
  },
  {
   "cell_type": "markdown",
   "id": "7ba2002b",
   "metadata": {
    "id": "SLT7VVmn3iiA",
    "papermill": {
     "duration": null,
     "end_time": null,
     "exception": null,
     "start_time": null,
     "status": "pending"
    },
    "tags": []
   },
   "source": [
    "**19. Modifying Dictionaries:**\n"
   ]
  },
  {
   "cell_type": "code",
   "execution_count": null,
   "id": "68cc3e19",
   "metadata": {
    "execution": {
     "iopub.execute_input": "2023-08-19T13:11:42.597822Z",
     "iopub.status.busy": "2023-08-19T13:11:42.597414Z",
     "iopub.status.idle": "2023-08-19T13:11:42.608162Z",
     "shell.execute_reply": "2023-08-19T13:11:42.607001Z",
     "shell.execute_reply.started": "2023-08-19T13:11:42.597792Z"
    },
    "id": "jJVVX_Rk3lcw",
    "papermill": {
     "duration": null,
     "end_time": null,
     "exception": null,
     "start_time": null,
     "status": "pending"
    },
    "tags": []
   },
   "outputs": [],
   "source": [
    "# Define a dictionary representing a product\n",
    "product = {\n",
    "\"name\": \"Laptop\",\n",
    "\"price\": 999.99,\n",
    "\"quantity\": 5\n",
    "}\n",
    "\n",
    "# Print the original dictionary\n",
    "print(f\"The original dictionary is {product}\")\n",
    "\n",
    "# Update the value associated with the \"quantity\" key using assignment\n",
    "product[\"quantity\"] = 10\n",
    "\n",
    "# Print the updated dictionary\n",
    "print(f\"The updated dictionary is {product}\")"
   ]
  },
  {
   "cell_type": "markdown",
   "id": "2ec9a5ee",
   "metadata": {
    "id": "_qgQKiwj3luu",
    "papermill": {
     "duration": null,
     "end_time": null,
     "exception": null,
     "start_time": null,
     "status": "pending"
    },
    "tags": []
   },
   "source": [
    "**20. Adding and Removing Dictionary Entries:**"
   ]
  },
  {
   "cell_type": "code",
   "execution_count": null,
   "id": "b25dfd45",
   "metadata": {
    "execution": {
     "iopub.execute_input": "2023-08-19T13:11:42.609734Z",
     "iopub.status.busy": "2023-08-19T13:11:42.609275Z",
     "iopub.status.idle": "2023-08-19T13:11:42.626506Z",
     "shell.execute_reply": "2023-08-19T13:11:42.625202Z",
     "shell.execute_reply.started": "2023-08-19T13:11:42.609694Z"
    },
    "id": "a30fh9Bg3pYc",
    "papermill": {
     "duration": null,
     "end_time": null,
     "exception": null,
     "start_time": null,
     "status": "pending"
    },
    "tags": []
   },
   "outputs": [],
   "source": [
    "# Define an empty dictionary\n",
    "person = {}\n",
    "\n",
    "# Add key-value pairs for \"name\" and \"age\" using assignment\n",
    "person[\"name\"] = \"Ali\"\n",
    "person[\"age\"] = 30\n",
    "\n",
    "# Print the dictionary\n",
    "print(person)"
   ]
  },
  {
   "cell_type": "markdown",
   "id": "6697064d",
   "metadata": {
    "id": "6fJGdJI33pw6",
    "papermill": {
     "duration": null,
     "end_time": null,
     "exception": null,
     "start_time": null,
     "status": "pending"
    },
    "tags": []
   },
   "source": [
    "# **SET**"
   ]
  },
  {
   "cell_type": "markdown",
   "id": "cf8d195c",
   "metadata": {
    "id": "TZ_NRAZ03uxg",
    "papermill": {
     "duration": null,
     "end_time": null,
     "exception": null,
     "start_time": null,
     "status": "pending"
    },
    "tags": []
   },
   "source": [
    "**21. Creating and Modifying Sets:**"
   ]
  },
  {
   "cell_type": "code",
   "execution_count": null,
   "id": "55a5d6d5",
   "metadata": {
    "execution": {
     "iopub.execute_input": "2023-08-19T13:11:42.629200Z",
     "iopub.status.busy": "2023-08-19T13:11:42.628462Z",
     "iopub.status.idle": "2023-08-19T13:11:42.642413Z",
     "shell.execute_reply": "2023-08-19T13:11:42.641231Z",
     "shell.execute_reply.started": "2023-08-19T13:11:42.629158Z"
    },
    "id": "sPrmh4rj3yUO",
    "papermill": {
     "duration": null,
     "end_time": null,
     "exception": null,
     "start_time": null,
     "status": "pending"
    },
    "tags": []
   },
   "outputs": [],
   "source": [
    "# Define a dictionary representing a product\n",
    "product = {\n",
    "\"name\": \"Laptop\",\n",
    "\"price\": 999.99,\n",
    "\"quantity\": 5\n",
    "}\n",
    "\n",
    "# Print the original dictionary\n",
    "print(f\"The original dictionary is {product}\")\n",
    "\n",
    "# Update the value associated with the \"quantity\" key using assignment\n",
    "product[\"quantity\"] = 10\n",
    "\n",
    "# Print the updated dictionary\n",
    "print(f\"The updated dictionary is {product}\")"
   ]
  },
  {
   "cell_type": "markdown",
   "id": "4b6264e1",
   "metadata": {
    "id": "caH3MjlA3x12",
    "papermill": {
     "duration": null,
     "end_time": null,
     "exception": null,
     "start_time": null,
     "status": "pending"
    },
    "tags": []
   },
   "source": [
    "**22. Set Operations:**"
   ]
  },
  {
   "cell_type": "code",
   "execution_count": null,
   "id": "267635d7",
   "metadata": {
    "execution": {
     "iopub.execute_input": "2023-08-19T13:11:42.644464Z",
     "iopub.status.busy": "2023-08-19T13:11:42.644073Z",
     "iopub.status.idle": "2023-08-19T13:11:42.655376Z",
     "shell.execute_reply": "2023-08-19T13:11:42.654394Z",
     "shell.execute_reply.started": "2023-08-19T13:11:42.644433Z"
    },
    "id": "jcxdBKq935jS",
    "papermill": {
     "duration": null,
     "end_time": null,
     "exception": null,
     "start_time": null,
     "status": "pending"
    },
    "tags": []
   },
   "outputs": [],
   "source": [
    "# Define two sets of numbers\n",
    "set1 = {1, 2, 3, 4, 5}\n",
    "set2 = {4, 5, 6, 7, 8}\n",
    "\n",
    "# Print the original sets\n",
    "print(f\"The original sets are {set1} and {set2}\")\n",
    "\n",
    "# Perform the union operation using the | operator\n",
    "set3 = set1 | set2\n",
    "\n",
    "# Print the union set\n",
    "print(f\"The union set is {set3}\")"
   ]
  },
  {
   "cell_type": "markdown",
   "id": "7e7f709c",
   "metadata": {
    "id": "2319cbVn351j",
    "papermill": {
     "duration": null,
     "end_time": null,
     "exception": null,
     "start_time": null,
     "status": "pending"
    },
    "tags": []
   },
   "source": [
    "**23. Removing Set Elements:**"
   ]
  },
  {
   "cell_type": "code",
   "execution_count": null,
   "id": "25ba1076",
   "metadata": {
    "execution": {
     "iopub.execute_input": "2023-08-19T13:11:42.657150Z",
     "iopub.status.busy": "2023-08-19T13:11:42.656816Z",
     "iopub.status.idle": "2023-08-19T13:11:42.668906Z",
     "shell.execute_reply": "2023-08-19T13:11:42.667897Z",
     "shell.execute_reply.started": "2023-08-19T13:11:42.657123Z"
    },
    "id": "mEpUU8I939D7",
    "papermill": {
     "duration": null,
     "end_time": null,
     "exception": null,
     "start_time": null,
     "status": "pending"
    },
    "tags": []
   },
   "outputs": [],
   "source": [
    "#  A)\n",
    "\n",
    "# Define a set of numbers\n",
    "numbers = {10, 20, 30, 40, 50}\n",
    "\n",
    "# Print the original set\n",
    "print(f\"The original set is {numbers}\")\n",
    "\n",
    "# Remove a specific element using the remove() method\n",
    "numbers.remove(30)\n",
    "\n",
    "# Print the modified set\n",
    "print(f\"The modified set is {numbers}\")"
   ]
  },
  {
   "cell_type": "code",
   "execution_count": null,
   "id": "9f8c5287",
   "metadata": {
    "execution": {
     "iopub.execute_input": "2023-08-19T13:11:42.671000Z",
     "iopub.status.busy": "2023-08-19T13:11:42.670164Z",
     "iopub.status.idle": "2023-08-19T13:11:42.684777Z",
     "shell.execute_reply": "2023-08-19T13:11:42.683605Z",
     "shell.execute_reply.started": "2023-08-19T13:11:42.670965Z"
    },
    "papermill": {
     "duration": null,
     "end_time": null,
     "exception": null,
     "start_time": null,
     "status": "pending"
    },
    "tags": []
   },
   "outputs": [],
   "source": [
    "#  B)\n",
    "\n",
    "# Define a set of strings\n",
    "strings = {\"hello\", \"fioger\", \"python\", \"is\", \"fun\"}\n",
    "\n",
    "# Print the original set\n",
    "print(f\"The original set is {strings}\")\n",
    "\n",
    "# Use the discard() method to remove an element that may or may not be present in the set\n",
    "strings.discard(\"is\")\n",
    "\n",
    "# Print the modified set\n",
    "print(f\"The modified set is {strings}\")"
   ]
  },
  {
   "cell_type": "markdown",
   "id": "d63150fe",
   "metadata": {
    "id": "0STrrIw139VJ",
    "papermill": {
     "duration": null,
     "end_time": null,
     "exception": null,
     "start_time": null,
     "status": "pending"
    },
    "tags": []
   },
   "source": [
    "# **STRING**"
   ]
  },
  {
   "cell_type": "markdown",
   "id": "b66968c9",
   "metadata": {
    "id": "3FYvYXJ44BY_",
    "papermill": {
     "duration": null,
     "end_time": null,
     "exception": null,
     "start_time": null,
     "status": "pending"
    },
    "tags": []
   },
   "source": [
    "**24. String Operations:**\n"
   ]
  },
  {
   "cell_type": "code",
   "execution_count": null,
   "id": "96b8ca7b",
   "metadata": {
    "execution": {
     "iopub.execute_input": "2023-08-19T13:11:42.687831Z",
     "iopub.status.busy": "2023-08-19T13:11:42.687390Z",
     "iopub.status.idle": "2023-08-19T13:11:42.699019Z",
     "shell.execute_reply": "2023-08-19T13:11:42.697932Z",
     "shell.execute_reply.started": "2023-08-19T13:11:42.687789Z"
    },
    "id": "m4096CDP4DsF",
    "papermill": {
     "duration": null,
     "end_time": null,
     "exception": null,
     "start_time": null,
     "status": "pending"
    },
    "tags": []
   },
   "outputs": [],
   "source": [
    "# Define a string\n",
    "string = \"Filoger\"\n",
    "\n",
    "# Repeat the string multiple times using the multiplication operator\n",
    "repeated_string = string * 3\n",
    "\n",
    "# Print the repeated string\n",
    "print(repeated_string)"
   ]
  },
  {
   "cell_type": "markdown",
   "id": "185d38d6",
   "metadata": {
    "id": "MiHle2Et4D-O",
    "papermill": {
     "duration": null,
     "end_time": null,
     "exception": null,
     "start_time": null,
     "status": "pending"
    },
    "tags": []
   },
   "source": [
    "**25. Accessing String Characters:**"
   ]
  },
  {
   "cell_type": "code",
   "execution_count": null,
   "id": "05624d4f",
   "metadata": {
    "execution": {
     "iopub.execute_input": "2023-08-19T13:11:42.700539Z",
     "iopub.status.busy": "2023-08-19T13:11:42.700104Z",
     "iopub.status.idle": "2023-08-19T13:11:42.711736Z",
     "shell.execute_reply": "2023-08-19T13:11:42.710496Z",
     "shell.execute_reply.started": "2023-08-19T13:11:42.700501Z"
    },
    "id": "WWPOeRjM4JA5",
    "papermill": {
     "duration": null,
     "end_time": null,
     "exception": null,
     "start_time": null,
     "status": "pending"
    },
    "tags": []
   },
   "outputs": [],
   "source": [
    "# Define a string\n",
    "string = \"Filoger\"\n",
    "\n",
    "# Print the last character using negative indexing\n",
    "print(string[-1])"
   ]
  },
  {
   "cell_type": "markdown",
   "id": "6bcd77a5",
   "metadata": {
    "id": "D7hiFMgh4JV9",
    "papermill": {
     "duration": null,
     "end_time": null,
     "exception": null,
     "start_time": null,
     "status": "pending"
    },
    "tags": []
   },
   "source": [
    "**26. String Length and Slicing:**"
   ]
  },
  {
   "cell_type": "code",
   "execution_count": null,
   "id": "844cdcf6",
   "metadata": {
    "execution": {
     "iopub.execute_input": "2023-08-19T13:11:42.713477Z",
     "iopub.status.busy": "2023-08-19T13:11:42.712959Z",
     "iopub.status.idle": "2023-08-19T13:11:42.730801Z",
     "shell.execute_reply": "2023-08-19T13:11:42.729738Z",
     "shell.execute_reply.started": "2023-08-19T13:11:42.713433Z"
    },
    "id": "t3A6Z7zW4M1m",
    "papermill": {
     "duration": null,
     "end_time": null,
     "exception": null,
     "start_time": null,
     "status": "pending"
    },
    "tags": []
   },
   "outputs": [],
   "source": [
    "# Define a string\n",
    "string = \"Filoger\"\n",
    "\n",
    "# Print a substring using slicing\n",
    "print(string[1:3])\n"
   ]
  },
  {
   "cell_type": "markdown",
   "id": "95a20ea5",
   "metadata": {
    "id": "lhhcI8ZY4NFE",
    "papermill": {
     "duration": null,
     "end_time": null,
     "exception": null,
     "start_time": null,
     "status": "pending"
    },
    "tags": []
   },
   "source": [
    "**27. Modifying Strings:**"
   ]
  },
  {
   "cell_type": "code",
   "execution_count": null,
   "id": "5dc7896a",
   "metadata": {
    "execution": {
     "iopub.execute_input": "2023-08-19T13:11:42.740694Z",
     "iopub.status.busy": "2023-08-19T13:11:42.740225Z",
     "iopub.status.idle": "2023-08-19T13:11:42.747225Z",
     "shell.execute_reply": "2023-08-19T13:11:42.746261Z",
     "shell.execute_reply.started": "2023-08-19T13:11:42.740660Z"
    },
    "id": "cCg1p4zw4QE5",
    "papermill": {
     "duration": null,
     "end_time": null,
     "exception": null,
     "start_time": null,
     "status": "pending"
    },
    "tags": []
   },
   "outputs": [],
   "source": [
    "# Define a string\n",
    "string = \"Filoger\"\n",
    "\n",
    "# Convert it to uppercase using the upper() method\n",
    "upper_string = string.upper()\n",
    "print(upper_string)"
   ]
  },
  {
   "cell_type": "markdown",
   "id": "c38de7b1",
   "metadata": {
    "id": "hph6CO-24QbD",
    "papermill": {
     "duration": null,
     "end_time": null,
     "exception": null,
     "start_time": null,
     "status": "pending"
    },
    "tags": []
   },
   "source": [
    "# **FUNCTIONS**"
   ]
  },
  {
   "cell_type": "markdown",
   "id": "4d9620c8",
   "metadata": {
    "id": "GRCge2kn4UpU",
    "papermill": {
     "duration": null,
     "end_time": null,
     "exception": null,
     "start_time": null,
     "status": "pending"
    },
    "tags": []
   },
   "source": [
    "**28. Function Basics:**"
   ]
  },
  {
   "cell_type": "code",
   "execution_count": null,
   "id": "6a98b4a5",
   "metadata": {
    "execution": {
     "iopub.execute_input": "2023-08-19T13:11:42.749591Z",
     "iopub.status.busy": "2023-08-19T13:11:42.748805Z",
     "iopub.status.idle": "2023-08-19T13:11:42.762317Z",
     "shell.execute_reply": "2023-08-19T13:11:42.761303Z",
     "shell.execute_reply.started": "2023-08-19T13:11:42.749515Z"
    },
    "id": "xumxCoKv4dXE",
    "papermill": {
     "duration": null,
     "end_time": null,
     "exception": null,
     "start_time": null,
     "status": "pending"
    },
    "tags": []
   },
   "outputs": [],
   "source": [
    "# Define a function called calculate_area() that takes the length and width of a rectangle as arguments\n",
    "# Calculate the area by multiplying the length and width\n",
    "def calculate_area(length, width):\n",
    "    area = length * width\n",
    "    return area\n",
    "\n",
    "# Test the function with some example values\n",
    "print(calculate_area(10, 5)) # Should print 50\n",
    "print(calculate_area(3, 7)) # Should print 21\n",
    "print(calculate_area(4, 4)) # Should print 16"
   ]
  },
  {
   "cell_type": "markdown",
   "id": "7baaabbb",
   "metadata": {
    "id": "2q3Bbbcp4dnU",
    "papermill": {
     "duration": null,
     "end_time": null,
     "exception": null,
     "start_time": null,
     "status": "pending"
    },
    "tags": []
   },
   "source": [
    "**29. Function Parameters and Arguments:**"
   ]
  },
  {
   "cell_type": "code",
   "execution_count": null,
   "id": "edda352b",
   "metadata": {
    "execution": {
     "iopub.execute_input": "2023-08-19T13:11:42.764383Z",
     "iopub.status.busy": "2023-08-19T13:11:42.763453Z",
     "iopub.status.idle": "2023-08-19T13:11:42.776712Z",
     "shell.execute_reply": "2023-08-19T13:11:42.775630Z",
     "shell.execute_reply.started": "2023-08-19T13:11:42.764350Z"
    },
    "id": "V8jzRnC34g4w",
    "papermill": {
     "duration": null,
     "end_time": null,
     "exception": null,
     "start_time": null,
     "status": "pending"
    },
    "tags": []
   },
   "outputs": [],
   "source": [
    "# This function takes two numbers as arguments and returns their sum\n",
    "def add_numbers(a, b):\n",
    "    return a + b"
   ]
  },
  {
   "cell_type": "markdown",
   "id": "00733d7d",
   "metadata": {
    "id": "QLKksbNa4hMB",
    "papermill": {
     "duration": null,
     "end_time": null,
     "exception": null,
     "start_time": null,
     "status": "pending"
    },
    "tags": []
   },
   "source": [
    "**30. Default Parameters:**\n"
   ]
  },
  {
   "cell_type": "code",
   "execution_count": null,
   "id": "d158cfcd",
   "metadata": {
    "execution": {
     "iopub.execute_input": "2023-08-19T13:11:42.779050Z",
     "iopub.status.busy": "2023-08-19T13:11:42.777897Z",
     "iopub.status.idle": "2023-08-19T13:11:42.789800Z",
     "shell.execute_reply": "2023-08-19T13:11:42.788658Z",
     "shell.execute_reply.started": "2023-08-19T13:11:42.779014Z"
    },
    "id": "S4HPKpH94kJH",
    "papermill": {
     "duration": null,
     "end_time": null,
     "exception": null,
     "start_time": null,
     "status": "pending"
    },
    "tags": []
   },
   "outputs": [],
   "source": [
    "# This function takes a number and an exponent as arguments and calculates the power of the number\n",
    "# If no exponent is provided, it defaults to 2\n",
    "def calculate_power(number, exponent=2):\n",
    "    return number ** exponent"
   ]
  },
  {
   "cell_type": "markdown",
   "id": "f10ec208",
   "metadata": {
    "id": "L9OrJIMB4mVw",
    "papermill": {
     "duration": null,
     "end_time": null,
     "exception": null,
     "start_time": null,
     "status": "pending"
    },
    "tags": []
   },
   "source": [
    "**31. Lambda Functions:**"
   ]
  },
  {
   "cell_type": "code",
   "execution_count": null,
   "id": "63e3e442",
   "metadata": {
    "execution": {
     "iopub.execute_input": "2023-08-19T13:11:42.792095Z",
     "iopub.status.busy": "2023-08-19T13:11:42.791113Z",
     "iopub.status.idle": "2023-08-19T13:11:42.804535Z",
     "shell.execute_reply": "2023-08-19T13:11:42.803082Z",
     "shell.execute_reply.started": "2023-08-19T13:11:42.792060Z"
    },
    "id": "k-9H2FsR4n09",
    "papermill": {
     "duration": null,
     "end_time": null,
     "exception": null,
     "start_time": null,
     "status": "pending"
    },
    "tags": []
   },
   "outputs": [],
   "source": [
    "is_divisible_by_2 = lambda x: x % 2 == 0"
   ]
  },
  {
   "cell_type": "markdown",
   "id": "f5f0ee94",
   "metadata": {
    "id": "YzVb32N54oJ4",
    "papermill": {
     "duration": null,
     "end_time": null,
     "exception": null,
     "start_time": null,
     "status": "pending"
    },
    "tags": []
   },
   "source": [
    "# **ITERATION**"
   ]
  },
  {
   "cell_type": "markdown",
   "id": "ceda3510",
   "metadata": {
    "id": "xVJL6vrY4ryb",
    "papermill": {
     "duration": null,
     "end_time": null,
     "exception": null,
     "start_time": null,
     "status": "pending"
    },
    "tags": []
   },
   "source": [
    "**32. Sum of List:**\n"
   ]
  },
  {
   "cell_type": "code",
   "execution_count": null,
   "id": "bcb3ed3a",
   "metadata": {
    "execution": {
     "iopub.execute_input": "2023-08-19T13:11:42.807419Z",
     "iopub.status.busy": "2023-08-19T13:11:42.806616Z",
     "iopub.status.idle": "2023-08-19T13:11:42.818504Z",
     "shell.execute_reply": "2023-08-19T13:11:42.817441Z",
     "shell.execute_reply.started": "2023-08-19T13:11:42.807381Z"
    },
    "id": "9pWY8boj4vkk",
    "papermill": {
     "duration": null,
     "end_time": null,
     "exception": null,
     "start_time": null,
     "status": "pending"
    },
    "tags": []
   },
   "outputs": [],
   "source": [
    "# This function takes a list of numbers as input and returns the sum of all the numbers using a loop\n",
    "def sum_list(numbers):\n",
    "    total = 0\n",
    "    for number in numbers:\n",
    "        total += number\n",
    "        return total "
   ]
  },
  {
   "cell_type": "markdown",
   "id": "245377ce",
   "metadata": {
    "id": "IVdv7IOn4v6Q",
    "papermill": {
     "duration": null,
     "end_time": null,
     "exception": null,
     "start_time": null,
     "status": "pending"
    },
    "tags": []
   },
   "source": [
    "**33. Factorial:**"
   ]
  },
  {
   "cell_type": "code",
   "execution_count": null,
   "id": "126b695d",
   "metadata": {
    "execution": {
     "iopub.execute_input": "2023-08-19T13:11:42.821173Z",
     "iopub.status.busy": "2023-08-19T13:11:42.820157Z",
     "iopub.status.idle": "2023-08-19T13:11:42.835462Z",
     "shell.execute_reply": "2023-08-19T13:11:42.833128Z",
     "shell.execute_reply.started": "2023-08-19T13:11:42.821138Z"
    },
    "id": "frVJJJVU4yxI",
    "papermill": {
     "duration": null,
     "end_time": null,
     "exception": null,
     "start_time": null,
     "status": "pending"
    },
    "tags": []
   },
   "outputs": [],
   "source": [
    "def factorial(number):\n",
    "# This function takes a number as input and calculates its factorial using a loop\n",
    "    result = 1 # Initialize a variable to store the result\n",
    "    for i in range(1, number + 1): # Loop from 1 to the number\n",
    "        result *= i # Multiply the result by the current number\n",
    "    return result # Return the result"
   ]
  },
  {
   "cell_type": "markdown",
   "id": "63253137",
   "metadata": {
    "id": "PicHLsIk4zBU",
    "papermill": {
     "duration": null,
     "end_time": null,
     "exception": null,
     "start_time": null,
     "status": "pending"
    },
    "tags": []
   },
   "source": [
    "**34. Counting Vowels:**"
   ]
  },
  {
   "cell_type": "code",
   "execution_count": null,
   "id": "b20b42a0",
   "metadata": {
    "execution": {
     "iopub.execute_input": "2023-08-19T13:11:42.838365Z",
     "iopub.status.busy": "2023-08-19T13:11:42.837877Z",
     "iopub.status.idle": "2023-08-19T13:11:42.850167Z",
     "shell.execute_reply": "2023-08-19T13:11:42.848925Z",
     "shell.execute_reply.started": "2023-08-19T13:11:42.838321Z"
    },
    "id": "Ylpfie8942Nh",
    "papermill": {
     "duration": null,
     "end_time": null,
     "exception": null,
     "start_time": null,
     "status": "pending"
    },
    "tags": []
   },
   "outputs": [],
   "source": [
    "def count_vowels(string):\n",
    "# This function takes a string as input and counts the number of vowels (a, e, i, o, u) in the string using a loop\n",
    "    vowels = \"aeiou\" # Define a string of vowels\n",
    "    count = 0 # Initialize a variable to store the count\n",
    "    for char in string.lower(): # Loop through each character in the lowercased string\n",
    "        if char in vowels: # Check if the character is a vowel\n",
    "            count += 1 # Increment the count\n",
    "    return count # Return the count"
   ]
  },
  {
   "cell_type": "markdown",
   "id": "dc2183a7",
   "metadata": {
    "id": "EcEd5lkT42mt",
    "papermill": {
     "duration": null,
     "end_time": null,
     "exception": null,
     "start_time": null,
     "status": "pending"
    },
    "tags": []
   },
   "source": [
    "**35. Fibonacci Sequence:**"
   ]
  },
  {
   "cell_type": "code",
   "execution_count": null,
   "id": "640c7c40",
   "metadata": {
    "execution": {
     "iopub.execute_input": "2023-08-19T13:11:42.852860Z",
     "iopub.status.busy": "2023-08-19T13:11:42.852049Z",
     "iopub.status.idle": "2023-08-19T13:11:42.867609Z",
     "shell.execute_reply": "2023-08-19T13:11:42.866095Z",
     "shell.execute_reply.started": "2023-08-19T13:11:42.852825Z"
    },
    "id": "N3lAdgCI47j6",
    "papermill": {
     "duration": null,
     "end_time": null,
     "exception": null,
     "start_time": null,
     "status": "pending"
    },
    "tags": []
   },
   "outputs": [],
   "source": [
    "def fibonacci(number):\n",
    "# This function takes a number as input and prints the Fibonacci sequence up to that number using a loop\n",
    "    a = 0 # Initialize the first term\n",
    "    b = 1 # Initialize the second term\n",
    "    while a < number: # Loop while the first term is less than the number\n",
    "        print(a) # Print the first term\n",
    "    a, b = b, a + b # Update the first and second terms by swapping and adding them"
   ]
  },
  {
   "cell_type": "markdown",
   "id": "17288732",
   "metadata": {
    "id": "OUL31gXM48AO",
    "papermill": {
     "duration": null,
     "end_time": null,
     "exception": null,
     "start_time": null,
     "status": "pending"
    },
    "tags": []
   },
   "source": [
    "# **RECURSION**"
   ]
  },
  {
   "cell_type": "markdown",
   "id": "ac50e3fe",
   "metadata": {
    "id": "oYlv_T655AJp",
    "papermill": {
     "duration": null,
     "end_time": null,
     "exception": null,
     "start_time": null,
     "status": "pending"
    },
    "tags": []
   },
   "source": [
    "**36. Factorial:**\n"
   ]
  },
  {
   "cell_type": "code",
   "execution_count": null,
   "id": "c28f8792",
   "metadata": {
    "execution": {
     "iopub.execute_input": "2023-08-19T13:11:42.869532Z",
     "iopub.status.busy": "2023-08-19T13:11:42.869144Z",
     "iopub.status.idle": "2023-08-19T13:11:42.885085Z",
     "shell.execute_reply": "2023-08-19T13:11:42.882578Z",
     "shell.execute_reply.started": "2023-08-19T13:11:42.869500Z"
    },
    "id": "_NvoSBAb5Gbh",
    "papermill": {
     "duration": null,
     "end_time": null,
     "exception": null,
     "start_time": null,
     "status": "pending"
    },
    "tags": []
   },
   "outputs": [],
   "source": [
    "def factorial(n):\n",
    "# base case: 0! = 1\n",
    "    if n == 0:\n",
    "        return 1\n",
    "# recursive case: n! = n * (n-1)!\n",
    "    else:\n",
    "        return n * factorial(n-1)"
   ]
  },
  {
   "cell_type": "markdown",
   "id": "32deb7f5",
   "metadata": {
    "id": "jgMbFG7c5FnS",
    "papermill": {
     "duration": null,
     "end_time": null,
     "exception": null,
     "start_time": null,
     "status": "pending"
    },
    "tags": []
   },
   "source": [
    "**37. Fibonacci Sequence:**"
   ]
  },
  {
   "cell_type": "code",
   "execution_count": null,
   "id": "c54eee78",
   "metadata": {
    "execution": {
     "iopub.execute_input": "2023-08-19T13:11:42.888436Z",
     "iopub.status.busy": "2023-08-19T13:11:42.887920Z",
     "iopub.status.idle": "2023-08-19T13:11:42.899390Z",
     "shell.execute_reply": "2023-08-19T13:11:42.898082Z",
     "shell.execute_reply.started": "2023-08-19T13:11:42.888389Z"
    },
    "id": "tYtjL1Y95K2T",
    "papermill": {
     "duration": null,
     "end_time": null,
     "exception": null,
     "start_time": null,
     "status": "pending"
    },
    "tags": []
   },
   "outputs": [],
   "source": [
    "def fibonacci(n):\n",
    "# base case: the first and second numbers are both 1\n",
    "    if n == 1 or n == 2:\n",
    "        return 1\n",
    "# recursive case: the nth number is the sum of the previous two numbers\n",
    "    else:\n",
    "        return fibonacci(n-1) + fibonacci(n-2)"
   ]
  },
  {
   "cell_type": "markdown",
   "id": "b723ca29",
   "metadata": {
    "id": "37EJTzfc5LLp",
    "papermill": {
     "duration": null,
     "end_time": null,
     "exception": null,
     "start_time": null,
     "status": "pending"
    },
    "tags": []
   },
   "source": [
    "# **EXCEPTION HANDLING**"
   ]
  },
  {
   "cell_type": "markdown",
   "id": "6e28b14c",
   "metadata": {
    "id": "9jxJCKsW6WT8",
    "papermill": {
     "duration": null,
     "end_time": null,
     "exception": null,
     "start_time": null,
     "status": "pending"
    },
    "tags": []
   },
   "source": [
    "**38. Divide by Zero:**"
   ]
  },
  {
   "cell_type": "code",
   "execution_count": null,
   "id": "819a075e",
   "metadata": {
    "execution": {
     "iopub.execute_input": "2023-08-19T13:11:42.903407Z",
     "iopub.status.busy": "2023-08-19T13:11:42.901461Z",
     "iopub.status.idle": "2023-08-19T13:11:50.447358Z",
     "shell.execute_reply": "2023-08-19T13:11:50.446180Z",
     "shell.execute_reply.started": "2023-08-19T13:11:42.903352Z"
    },
    "id": "R7-3Hxgo5OnC",
    "papermill": {
     "duration": null,
     "end_time": null,
     "exception": null,
     "start_time": null,
     "status": "pending"
    },
    "tags": []
   },
   "outputs": [],
   "source": [
    "# get the first number from the user\n",
    "num1 = float(input(\"Enter the first number: \"))\n",
    "# get the second number from the user\n",
    "num2 = float(input(\"Enter the second number: \"))\n",
    "# try to divide the first number by the second number\n",
    "try:\n",
    "    result = num1 / num2\n",
    "# print the result\n",
    "    print(f\"The result is {result}\")\n",
    "# catch the ZeroDivisionError exception if the second number is 0\n",
    "except ZeroDivisionError:\n",
    "# print an error message\n",
    "    print(\"Error: Cannot divide by zero\")"
   ]
  },
  {
   "cell_type": "markdown",
   "id": "42a97f3a",
   "metadata": {
    "id": "K6q0h5iF6Y0u",
    "papermill": {
     "duration": null,
     "end_time": null,
     "exception": null,
     "start_time": null,
     "status": "pending"
    },
    "tags": []
   },
   "source": [
    "**39. File Reading:**"
   ]
  },
  {
   "cell_type": "code",
   "execution_count": null,
   "id": "924e4df1",
   "metadata": {
    "execution": {
     "iopub.execute_input": "2023-08-19T13:11:50.449275Z",
     "iopub.status.busy": "2023-08-19T13:11:50.448878Z",
     "iopub.status.idle": "2023-08-19T13:11:53.301362Z",
     "shell.execute_reply": "2023-08-19T13:11:53.300279Z",
     "shell.execute_reply.started": "2023-08-19T13:11:50.449245Z"
    },
    "id": "_945J99h6cdC",
    "papermill": {
     "duration": null,
     "end_time": null,
     "exception": null,
     "start_time": null,
     "status": "pending"
    },
    "tags": []
   },
   "outputs": [],
   "source": [
    "# get the file name from the user\n",
    "file_name = input(\"Enter the file name: \")\n",
    "# try to open the file in read mode\n",
    "try:\n",
    "    file = open(file_name, \"r\")\n",
    "# read the contents of the file\n",
    "    contents = file.read()\n",
    "# print the contents of the file\n",
    "    print(contents)\n",
    "# close the file\n",
    "    file.close()\n",
    "# catch the FileNotFoundError exception if the file does not exist\n",
    "except FileNotFoundError:\n",
    "# print an error message\n",
    "    print(f\"Error: File {file_name} does not exist\")"
   ]
  },
  {
   "cell_type": "markdown",
   "id": "a94e06c0",
   "metadata": {
    "id": "aonzFau76cp0",
    "papermill": {
     "duration": null,
     "end_time": null,
     "exception": null,
     "start_time": null,
     "status": "pending"
    },
    "tags": []
   },
   "source": [
    "**40. Input Validation:**"
   ]
  },
  {
   "cell_type": "code",
   "execution_count": null,
   "id": "635c7fa4",
   "metadata": {
    "execution": {
     "iopub.execute_input": "2023-08-19T13:11:53.303303Z",
     "iopub.status.busy": "2023-08-19T13:11:53.302964Z",
     "iopub.status.idle": "2023-08-19T13:11:55.680835Z",
     "shell.execute_reply": "2023-08-19T13:11:55.679619Z",
     "shell.execute_reply.started": "2023-08-19T13:11:53.303274Z"
    },
    "id": "mvzEBeD66gIt",
    "papermill": {
     "duration": null,
     "end_time": null,
     "exception": null,
     "start_time": null,
     "status": "pending"
    },
    "tags": []
   },
   "outputs": [],
   "source": [
    "# initialize a flag to indicate if the input is valid\n",
    "valid = False\n",
    "# use a while loop to keep asking the user for input until it is valid\n",
    "while not valid:\n",
    "# try to get the input from the user\n",
    "    try:\n",
    "# ask the user to enter a positive integer\n",
    "        num = int(input(\"Enter a positive integer: \"))\n",
    "# check if the input is positive\n",
    "        if num > 0:\n",
    "# set the flag to True to exit the loop\n",
    "            valid = True\n",
    "# print the input\n",
    "            print(f\"You entered {num}\")\n",
    "# if the input is not positive, print an error message\n",
    "        else:\n",
    "            print(\"Error: The number must be positive\")\n",
    "# catch the ValueError exception if the input is not an integer\n",
    "    except ValueError:\n",
    "# print an error message\n",
    "        print(\"Error: The input must be an integer\")"
   ]
  },
  {
   "cell_type": "markdown",
   "id": "883679c6",
   "metadata": {
    "id": "bF7gsZTU6gcR",
    "papermill": {
     "duration": null,
     "end_time": null,
     "exception": null,
     "start_time": null,
     "status": "pending"
    },
    "tags": []
   },
   "source": [
    "**41. Index Error:**"
   ]
  },
  {
   "cell_type": "code",
   "execution_count": null,
   "id": "5c522159",
   "metadata": {
    "execution": {
     "iopub.execute_input": "2023-08-19T13:11:55.683191Z",
     "iopub.status.busy": "2023-08-19T13:11:55.682463Z",
     "iopub.status.idle": "2023-08-19T13:11:59.429856Z",
     "shell.execute_reply": "2023-08-19T13:11:59.428508Z",
     "shell.execute_reply.started": "2023-08-19T13:11:55.683150Z"
    },
    "id": "A2sBJ0nq6jY7",
    "papermill": {
     "duration": null,
     "end_time": null,
     "exception": null,
     "start_time": null,
     "status": "pending"
    },
    "tags": []
   },
   "outputs": [],
   "source": [
    "# create a list of numbers\n",
    "numbers = [1, 2, 3, 4, 5]\n",
    "# print the list\n",
    "print(numbers)\n",
    "# get the index from the user\n",
    "index = int(input(\"Enter an index: \"))\n",
    "# try to access the element at that index\n",
    "try:\n",
    "    element = numbers[index]\n",
    "# print the element\n",
    "    print(f\"The element at index {index} is {element}\")\n",
    "# catch the IndexError exception if the index is out of range\n",
    "except IndexError:\n",
    "# print an error message\n",
    "    print(f\"Error: Index {index} is out of range\")"
   ]
  },
  {
   "cell_type": "markdown",
   "id": "414b9cdc",
   "metadata": {
    "id": "xMylsJwU7Pp5",
    "papermill": {
     "duration": null,
     "end_time": null,
     "exception": null,
     "start_time": null,
     "status": "pending"
    },
    "tags": []
   },
   "source": [
    "# **NUMPY**"
   ]
  },
  {
   "cell_type": "markdown",
   "id": "e119b647",
   "metadata": {
    "id": "muX7KF697UcU",
    "papermill": {
     "duration": null,
     "end_time": null,
     "exception": null,
     "start_time": null,
     "status": "pending"
    },
    "tags": []
   },
   "source": [
    "**42. Array Creation:**\n"
   ]
  },
  {
   "cell_type": "code",
   "execution_count": null,
   "id": "43970d72",
   "metadata": {
    "execution": {
     "iopub.execute_input": "2023-08-19T13:11:59.432600Z",
     "iopub.status.busy": "2023-08-19T13:11:59.431866Z",
     "iopub.status.idle": "2023-08-19T13:11:59.439997Z",
     "shell.execute_reply": "2023-08-19T13:11:59.438630Z",
     "shell.execute_reply.started": "2023-08-19T13:11:59.432563Z"
    },
    "id": "tO3_vzFr7Yhs",
    "papermill": {
     "duration": null,
     "end_time": null,
     "exception": null,
     "start_time": null,
     "status": "pending"
    },
    "tags": []
   },
   "outputs": [],
   "source": [
    "# import the NumPy module\n",
    "import numpy as np\n",
    "# create a 2-dimensional array with shape (3, 3) filled with zeros\n",
    "array = np.zeros((3, 3))\n",
    "# print the array\n",
    "print(array)"
   ]
  },
  {
   "cell_type": "markdown",
   "id": "edede8ba",
   "metadata": {
    "id": "S_1YauAb7axC",
    "papermill": {
     "duration": null,
     "end_time": null,
     "exception": null,
     "start_time": null,
     "status": "pending"
    },
    "tags": []
   },
   "source": [
    "**43. Array Operations:**"
   ]
  },
  {
   "cell_type": "code",
   "execution_count": null,
   "id": "7795139b",
   "metadata": {
    "execution": {
     "iopub.execute_input": "2023-08-19T13:11:59.442334Z",
     "iopub.status.busy": "2023-08-19T13:11:59.441864Z",
     "iopub.status.idle": "2023-08-19T13:11:59.458195Z",
     "shell.execute_reply": "2023-08-19T13:11:59.456962Z",
     "shell.execute_reply.started": "2023-08-19T13:11:59.442293Z"
    },
    "id": "UUaML-2I7PFA",
    "papermill": {
     "duration": null,
     "end_time": null,
     "exception": null,
     "start_time": null,
     "status": "pending"
    },
    "tags": []
   },
   "outputs": [],
   "source": [
    "# create two NumPy arrays of the same shape\n",
    "array1 = np.array([[1, 2, 3], [4, 5, 6]])\n",
    "array2 = np.array([[7, 8, 9], [10, 11, 12]])\n",
    "# print the arrays\n",
    "print(array1)\n",
    "print(array2)\n",
    "# perform element-wise addition\n",
    "array3 = array1 + array2\n",
    "# print the result\n",
    "print(array3)"
   ]
  },
  {
   "cell_type": "markdown",
   "id": "9abd07c1",
   "metadata": {
    "id": "OYYZk4cC7d3B",
    "papermill": {
     "duration": null,
     "end_time": null,
     "exception": null,
     "start_time": null,
     "status": "pending"
    },
    "tags": []
   },
   "source": [
    "**44. Array Indexing and Slicing:**"
   ]
  },
  {
   "cell_type": "code",
   "execution_count": null,
   "id": "f72c260b",
   "metadata": {
    "execution": {
     "iopub.execute_input": "2023-08-19T13:11:59.461077Z",
     "iopub.status.busy": "2023-08-19T13:11:59.460231Z",
     "iopub.status.idle": "2023-08-19T13:11:59.479167Z",
     "shell.execute_reply": "2023-08-19T13:11:59.477830Z",
     "shell.execute_reply.started": "2023-08-19T13:11:59.461033Z"
    },
    "id": "ACPdPGqK7io1",
    "papermill": {
     "duration": null,
     "end_time": null,
     "exception": null,
     "start_time": null,
     "status": "pending"
    },
    "tags": []
   },
   "outputs": [],
   "source": [
    "# create a 2-dimensional NumPy array\n",
    "array = np.array([[1, 2, 3, 4], [5, 6, 7, 8], [9, 10, 11, 12]])\n",
    "# print the array\n",
    "print(array)\n",
    "# print a 2x2 subarray\n",
    "subarray = array[0:2, 0:2]\n",
    "print(subarray)"
   ]
  },
  {
   "cell_type": "markdown",
   "id": "63c2d1da",
   "metadata": {
    "id": "o6mBzLyl7jK4",
    "papermill": {
     "duration": null,
     "end_time": null,
     "exception": null,
     "start_time": null,
     "status": "pending"
    },
    "tags": []
   },
   "source": [
    "**45. Array Shape and Reshaping:**"
   ]
  },
  {
   "cell_type": "code",
   "execution_count": null,
   "id": "76ec729b",
   "metadata": {
    "execution": {
     "iopub.execute_input": "2023-08-19T13:11:59.481877Z",
     "iopub.status.busy": "2023-08-19T13:11:59.481387Z",
     "iopub.status.idle": "2023-08-19T13:11:59.494229Z",
     "shell.execute_reply": "2023-08-19T13:11:59.492900Z",
     "shell.execute_reply.started": "2023-08-19T13:11:59.481832Z"
    },
    "id": "RvFttVfV7dVl",
    "papermill": {
     "duration": null,
     "end_time": null,
     "exception": null,
     "start_time": null,
     "status": "pending"
    },
    "tags": []
   },
   "outputs": [],
   "source": [
    "# create a 1-dimensional NumPy array\n",
    "array = np.array([1, 2, 3, 4, 5, 6])\n",
    "# print the array\n",
    "print(array)\n",
    "# reshape it into a 2x3 array\n",
    "array = array.reshape((2, 3))\n",
    "# print the reshaped array\n",
    "print(array)"
   ]
  },
  {
   "cell_type": "markdown",
   "id": "9ecda725",
   "metadata": {
    "id": "oX8G1ADL7ngK",
    "papermill": {
     "duration": null,
     "end_time": null,
     "exception": null,
     "start_time": null,
     "status": "pending"
    },
    "tags": []
   },
   "source": [
    "**46. Array Aggregation:**\n"
   ]
  },
  {
   "cell_type": "code",
   "execution_count": null,
   "id": "bcfd3f46",
   "metadata": {
    "execution": {
     "iopub.execute_input": "2023-08-19T13:11:59.496215Z",
     "iopub.status.busy": "2023-08-19T13:11:59.495890Z",
     "iopub.status.idle": "2023-08-19T13:11:59.507879Z",
     "shell.execute_reply": "2023-08-19T13:11:59.506596Z",
     "shell.execute_reply.started": "2023-08-19T13:11:59.496187Z"
    },
    "id": "5eOwRr0x7qum",
    "papermill": {
     "duration": null,
     "end_time": null,
     "exception": null,
     "start_time": null,
     "status": "pending"
    },
    "tags": []
   },
   "outputs": [],
   "source": [
    "# create a 2-dimensional NumPy array\n",
    "array = np.array([[1, 2, 3], [4, 5, 6], [7, 8, 9]])\n",
    "# print the array\n",
    "print(array)\n",
    "# calculate the mean of each column\n",
    "mean = array.mean(axis=0)\n",
    "# print the mean\n",
    "print(mean)"
   ]
  },
  {
   "cell_type": "markdown",
   "id": "64dabae4",
   "metadata": {
    "id": "vm2lD6Cz7rFF",
    "papermill": {
     "duration": null,
     "end_time": null,
     "exception": null,
     "start_time": null,
     "status": "pending"
    },
    "tags": []
   },
   "source": [
    "**47. Array Broadcasting:**"
   ]
  },
  {
   "cell_type": "code",
   "execution_count": null,
   "id": "751fa3ea",
   "metadata": {
    "execution": {
     "iopub.execute_input": "2023-08-19T13:11:59.510003Z",
     "iopub.status.busy": "2023-08-19T13:11:59.509414Z",
     "iopub.status.idle": "2023-08-19T13:11:59.522458Z",
     "shell.execute_reply": "2023-08-19T13:11:59.521214Z",
     "shell.execute_reply.started": "2023-08-19T13:11:59.509960Z"
    },
    "id": "zpAsXiaf7uX-",
    "papermill": {
     "duration": null,
     "end_time": null,
     "exception": null,
     "start_time": null,
     "status": "pending"
    },
    "tags": []
   },
   "outputs": [],
   "source": [
    "# create a NumPy array\n",
    "array1 = np.array([[1, 2, 3], [4, 5, 6]])\n",
    "# print the array\n",
    "print(array1)\n",
    "# create a 1-dimensional array\n",
    "array2 = np.array([10, 20, 30])\n",
    "# print the array\n",
    "print(array2)\n",
    "# multiply the arrays element-wise\n",
    "array3 = array1 * array2\n",
    "# print the result\n",
    "print(array3)"
   ]
  },
  {
   "cell_type": "markdown",
   "id": "b643daeb",
   "metadata": {
    "id": "3pjEMyT07u0e",
    "papermill": {
     "duration": null,
     "end_time": null,
     "exception": null,
     "start_time": null,
     "status": "pending"
    },
    "tags": []
   },
   "source": [
    "# **PANDAS (USEING DATASET)**\n"
   ]
  },
  {
   "cell_type": "markdown",
   "id": "8eff74fa",
   "metadata": {
    "id": "Fef3NB6Q7yNm",
    "papermill": {
     "duration": null,
     "end_time": null,
     "exception": null,
     "start_time": null,
     "status": "pending"
    },
    "tags": []
   },
   "source": [
    "**48. DataFrame Creation:**\n"
   ]
  },
  {
   "cell_type": "code",
   "execution_count": null,
   "id": "1460a6b7",
   "metadata": {
    "execution": {
     "iopub.execute_input": "2023-08-19T13:11:59.524036Z",
     "iopub.status.busy": "2023-08-19T13:11:59.523702Z",
     "iopub.status.idle": "2023-08-19T13:11:59.569290Z",
     "shell.execute_reply": "2023-08-19T13:11:59.568417Z",
     "shell.execute_reply.started": "2023-08-19T13:11:59.524008Z"
    },
    "id": "TCV54Awo71GD",
    "papermill": {
     "duration": null,
     "end_time": null,
     "exception": null,
     "start_time": null,
     "status": "pending"
    },
    "tags": []
   },
   "outputs": [],
   "source": [
    "# import the NumPy module\n",
    "import pandas as pd\n",
    "# creat dataframe & read dataset\n",
    "df= pd.read_csv('/kaggle/input/tipscsv/tips.csv')"
   ]
  },
  {
   "cell_type": "markdown",
   "id": "03a032e3",
   "metadata": {
    "id": "W9U2UvJQ71W8",
    "papermill": {
     "duration": null,
     "end_time": null,
     "exception": null,
     "start_time": null,
     "status": "pending"
    },
    "tags": []
   },
   "source": [
    "**49. Data Exploration:**"
   ]
  },
  {
   "cell_type": "code",
   "execution_count": null,
   "id": "6fa2ef8b",
   "metadata": {
    "execution": {
     "iopub.execute_input": "2023-08-19T13:11:59.571289Z",
     "iopub.status.busy": "2023-08-19T13:11:59.570637Z",
     "iopub.status.idle": "2023-08-19T13:11:59.617616Z",
     "shell.execute_reply": "2023-08-19T13:11:59.616455Z",
     "shell.execute_reply.started": "2023-08-19T13:11:59.571258Z"
    },
    "id": "_zfzLQWo74rH",
    "papermill": {
     "duration": null,
     "end_time": null,
     "exception": null,
     "start_time": null,
     "status": "pending"
    },
    "tags": []
   },
   "outputs": [],
   "source": [
    "df.head()"
   ]
  },
  {
   "cell_type": "code",
   "execution_count": null,
   "id": "6fa53806",
   "metadata": {
    "execution": {
     "iopub.execute_input": "2023-08-19T13:11:59.619476Z",
     "iopub.status.busy": "2023-08-19T13:11:59.619061Z",
     "iopub.status.idle": "2023-08-19T13:11:59.650755Z",
     "shell.execute_reply": "2023-08-19T13:11:59.649952Z",
     "shell.execute_reply.started": "2023-08-19T13:11:59.619436Z"
    },
    "papermill": {
     "duration": null,
     "end_time": null,
     "exception": null,
     "start_time": null,
     "status": "pending"
    },
    "tags": []
   },
   "outputs": [],
   "source": [
    "df.info()"
   ]
  },
  {
   "cell_type": "code",
   "execution_count": null,
   "id": "d55c693b",
   "metadata": {
    "execution": {
     "iopub.execute_input": "2023-08-19T13:11:59.652694Z",
     "iopub.status.busy": "2023-08-19T13:11:59.651846Z",
     "iopub.status.idle": "2023-08-19T13:11:59.660094Z",
     "shell.execute_reply": "2023-08-19T13:11:59.658823Z",
     "shell.execute_reply.started": "2023-08-19T13:11:59.652663Z"
    },
    "papermill": {
     "duration": null,
     "end_time": null,
     "exception": null,
     "start_time": null,
     "status": "pending"
    },
    "tags": []
   },
   "outputs": [],
   "source": [
    "df.columns"
   ]
  },
  {
   "cell_type": "code",
   "execution_count": null,
   "id": "b0d03189",
   "metadata": {
    "execution": {
     "iopub.execute_input": "2023-08-19T13:11:59.661503Z",
     "iopub.status.busy": "2023-08-19T13:11:59.661173Z",
     "iopub.status.idle": "2023-08-19T13:11:59.686143Z",
     "shell.execute_reply": "2023-08-19T13:11:59.684885Z",
     "shell.execute_reply.started": "2023-08-19T13:11:59.661470Z"
    },
    "papermill": {
     "duration": null,
     "end_time": null,
     "exception": null,
     "start_time": null,
     "status": "pending"
    },
    "tags": []
   },
   "outputs": [],
   "source": [
    "df.tail()"
   ]
  },
  {
   "cell_type": "code",
   "execution_count": null,
   "id": "7beb75a1",
   "metadata": {
    "execution": {
     "iopub.execute_input": "2023-08-19T13:11:59.688193Z",
     "iopub.status.busy": "2023-08-19T13:11:59.687822Z",
     "iopub.status.idle": "2023-08-19T13:11:59.726949Z",
     "shell.execute_reply": "2023-08-19T13:11:59.725846Z",
     "shell.execute_reply.started": "2023-08-19T13:11:59.688163Z"
    },
    "papermill": {
     "duration": null,
     "end_time": null,
     "exception": null,
     "start_time": null,
     "status": "pending"
    },
    "tags": []
   },
   "outputs": [],
   "source": [
    "df.describe()"
   ]
  },
  {
   "cell_type": "markdown",
   "id": "ca418587",
   "metadata": {
    "id": "LJbE9yU49Yzv",
    "papermill": {
     "duration": null,
     "end_time": null,
     "exception": null,
     "start_time": null,
     "status": "pending"
    },
    "tags": []
   },
   "source": [
    "**50. Data Selection and Indexing:**"
   ]
  },
  {
   "cell_type": "code",
   "execution_count": null,
   "id": "1a55196a",
   "metadata": {
    "execution": {
     "iopub.execute_input": "2023-08-19T13:11:59.728619Z",
     "iopub.status.busy": "2023-08-19T13:11:59.728290Z",
     "iopub.status.idle": "2023-08-19T13:11:59.738721Z",
     "shell.execute_reply": "2023-08-19T13:11:59.737521Z",
     "shell.execute_reply.started": "2023-08-19T13:11:59.728592Z"
    },
    "id": "FJrjvyJ59bFa",
    "papermill": {
     "duration": null,
     "end_time": null,
     "exception": null,
     "start_time": null,
     "status": "pending"
    },
    "tags": []
   },
   "outputs": [],
   "source": [
    "df[\"price_per_person\"]"
   ]
  },
  {
   "cell_type": "markdown",
   "id": "6b967dfc",
   "metadata": {
    "id": "pJa0O4k39bVH",
    "papermill": {
     "duration": null,
     "end_time": null,
     "exception": null,
     "start_time": null,
     "status": "pending"
    },
    "tags": []
   },
   "source": [
    "**51. Data Manipulation:**"
   ]
  },
  {
   "cell_type": "code",
   "execution_count": null,
   "id": "32c6786f",
   "metadata": {
    "execution": {
     "iopub.execute_input": "2023-08-19T13:11:59.740527Z",
     "iopub.status.busy": "2023-08-19T13:11:59.740180Z",
     "iopub.status.idle": "2023-08-19T13:11:59.766407Z",
     "shell.execute_reply": "2023-08-19T13:11:59.765422Z",
     "shell.execute_reply.started": "2023-08-19T13:11:59.740499Z"
    },
    "id": "VeU5zgo29gHu",
    "papermill": {
     "duration": null,
     "end_time": null,
     "exception": null,
     "start_time": null,
     "status": "pending"
    },
    "tags": []
   },
   "outputs": [],
   "source": [
    "sorted_df = df.sort_values(by=\"price_per_person\", na_position=\"first\",ascending=False)\n",
    "sorted_df.head()"
   ]
  },
  {
   "cell_type": "markdown",
   "id": "365418ca",
   "metadata": {
    "id": "Mb-2r8V09gYq",
    "papermill": {
     "duration": null,
     "end_time": null,
     "exception": null,
     "start_time": null,
     "status": "pending"
    },
    "tags": []
   },
   "source": [
    "**52. Missing Data Handling:**"
   ]
  },
  {
   "cell_type": "code",
   "execution_count": null,
   "id": "09b534b4",
   "metadata": {
    "execution": {
     "iopub.execute_input": "2023-08-19T13:11:59.767951Z",
     "iopub.status.busy": "2023-08-19T13:11:59.767634Z",
     "iopub.status.idle": "2023-08-19T13:11:59.796776Z",
     "shell.execute_reply": "2023-08-19T13:11:59.795415Z",
     "shell.execute_reply.started": "2023-08-19T13:11:59.767924Z"
    },
    "id": "27qSfUOi9lXn",
    "papermill": {
     "duration": null,
     "end_time": null,
     "exception": null,
     "start_time": null,
     "status": "pending"
    },
    "tags": []
   },
   "outputs": [],
   "source": [
    "df.isnull()"
   ]
  },
  {
   "cell_type": "code",
   "execution_count": null,
   "id": "09f991b7",
   "metadata": {
    "execution": {
     "iopub.execute_input": "2023-08-19T13:11:59.798920Z",
     "iopub.status.busy": "2023-08-19T13:11:59.798310Z",
     "iopub.status.idle": "2023-08-19T13:11:59.813348Z",
     "shell.execute_reply": "2023-08-19T13:11:59.812133Z",
     "shell.execute_reply.started": "2023-08-19T13:11:59.798888Z"
    },
    "papermill": {
     "duration": null,
     "end_time": null,
     "exception": null,
     "start_time": null,
     "status": "pending"
    },
    "tags": []
   },
   "outputs": [],
   "source": [
    "df.isnull().sum()"
   ]
  },
  {
   "cell_type": "markdown",
   "id": "7b433d45",
   "metadata": {
    "id": "VToDnQbP9kkB",
    "papermill": {
     "duration": null,
     "end_time": null,
     "exception": null,
     "start_time": null,
     "status": "pending"
    },
    "tags": []
   },
   "source": [
    "**53. Grouping and Aggregation:**"
   ]
  },
  {
   "cell_type": "code",
   "execution_count": null,
   "id": "230d0255",
   "metadata": {
    "execution": {
     "iopub.execute_input": "2023-08-19T13:11:59.815242Z",
     "iopub.status.busy": "2023-08-19T13:11:59.814722Z",
     "iopub.status.idle": "2023-08-19T13:11:59.832477Z",
     "shell.execute_reply": "2023-08-19T13:11:59.831625Z",
     "shell.execute_reply.started": "2023-08-19T13:11:59.815214Z"
    },
    "id": "E4NC6cpL9qha",
    "papermill": {
     "duration": null,
     "end_time": null,
     "exception": null,
     "start_time": null,
     "status": "pending"
    },
    "tags": []
   },
   "outputs": [],
   "source": [
    "mean_df = df.groupby(\"price_per_person\")[\"total_bill\"].mean()\n",
    "mean_df.head()"
   ]
  },
  {
   "cell_type": "code",
   "execution_count": null,
   "id": "6944019a",
   "metadata": {
    "execution": {
     "iopub.execute_input": "2023-08-19T13:11:59.834266Z",
     "iopub.status.busy": "2023-08-19T13:11:59.833911Z",
     "iopub.status.idle": "2023-08-19T13:11:59.847136Z",
     "shell.execute_reply": "2023-08-19T13:11:59.846183Z",
     "shell.execute_reply.started": "2023-08-19T13:11:59.834237Z"
    },
    "papermill": {
     "duration": null,
     "end_time": null,
     "exception": null,
     "start_time": null,
     "status": "pending"
    },
    "tags": []
   },
   "outputs": [],
   "source": [
    "sum_df = df.groupby(\"price_per_person\")[\"tip\"].sum()\n",
    "sum_df.head()"
   ]
  },
  {
   "cell_type": "markdown",
   "id": "efefb027",
   "metadata": {
    "id": "jcsHOS6k9sSx",
    "papermill": {
     "duration": null,
     "end_time": null,
     "exception": null,
     "start_time": null,
     "status": "pending"
    },
    "tags": []
   },
   "source": [
    "**Good Luck!**🍒"
   ]
  }
 ],
 "metadata": {
  "kernelspec": {
   "display_name": "Python 3",
   "language": "python",
   "name": "python3"
  },
  "language_info": {
   "codemirror_mode": {
    "name": "ipython",
    "version": 3
   },
   "file_extension": ".py",
   "mimetype": "text/x-python",
   "name": "python",
   "nbconvert_exporter": "python",
   "pygments_lexer": "ipython3",
   "version": "3.10.10"
  },
  "papermill": {
   "default_parameters": {},
   "duration": 16.455766,
   "end_time": "2023-08-19T13:14:54.437381",
   "environment_variables": {},
   "exception": true,
   "input_path": "__notebook__.ipynb",
   "output_path": "__notebook__.ipynb",
   "parameters": {},
   "start_time": "2023-08-19T13:14:37.981615",
   "version": "2.4.0"
  }
 },
 "nbformat": 4,
 "nbformat_minor": 5
}
